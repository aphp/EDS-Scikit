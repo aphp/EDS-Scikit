{
 "cells": [
  {
   "cell_type": "markdown",
   "id": "75dec4a7-7887-44c0-9dc4-b1093e6b06a0",
   "metadata": {
    "tags": []
   },
   "source": [
    "# Tutorial - Preparing measurement table\n",
    "\n",
    "This tutorial takes you through the entire workflow of the [Biology][biology] module."
   ]
  },
  {
   "cell_type": "code",
   "execution_count": null,
   "id": "e684a128-b49e-4946-9478-7ea4385c60b3",
   "metadata": {
    "tags": []
   },
   "outputs": [],
   "source": [
    "import eds_scikit\n",
    "import pandas as pd"
   ]
  },
  {
   "cell_type": "markdown",
   "id": "8ec78af6-0460-4928-a4d8-6d97538f5555",
   "metadata": {
    "tags": []
   },
   "source": [
    "## 1 - Load data <a id=\"load-data\"></a>\n",
    "\n",
    "!!! tip \"Big volume\"\n",
    "    Measurement table can be large. Do not forget to set proper spark config."
   ]
  },
  {
   "cell_type": "code",
   "execution_count": null,
   "id": "1f764915-5567-4269-8297-4d17f79e21ef",
   "metadata": {
    "tags": []
   },
   "outputs": [],
   "source": [
    "to_add_conf = [\n",
    "    (\"master\", \"yarn\"),\n",
    "    (\"deploy_mode\", \"client\"),\n",
    "    (\"spark.driver.memory\", ...),\n",
    "    (\"spark.executor.memory\", ...),\n",
    "    (\"spark.executor.cores\", ...),\n",
    "    (\"spark.executor.memoryOverhead\", ...),\n",
    "    (\"spark.driver.maxResultSize\", ...)\n",
    "    ...\n",
    "]\n",
    "\n",
    "spark, sc, sql = eds_scikit.improve_performances(to_add_conf=to_add_conf)\n",
    "\n",
    "from eds_scikit.io.hive import HiveData"
   ]
  },
  {
   "cell_type": "code",
   "execution_count": null,
   "id": "ae760754-1953-412c-9698-26270330941b",
   "metadata": {
    "tags": []
   },
   "outputs": [],
   "source": [
    "data = HiveData(\n",
    "    spark_session=spark,\n",
    "    database_name=\"cse_xxxxxxx_xxxxxxx\",\n",
    "    tables_to_load=[\n",
    "        \"care_site\",\n",
    "        \"concept\",\n",
    "        \"visit_occurrence\",\n",
    "        \"measurement\",\n",
    "        \"concept_relationship\",\n",
    "    ],\n",
    ")"
   ]
  },
  {
   "cell_type": "markdown",
   "id": "746dd8f5-6229-4b3f-bd26-f40e074bb9b0",
   "metadata": {
    "tags": []
   },
   "source": [
    "## 2 - Quick use : Preparing measurement table <a id=\"quick-use\"></a>"
   ]
  },
  {
   "cell_type": "markdown",
   "id": "8bb4d703-e444-4798-8dff-573081b004dc",
   "metadata": {
    "tags": []
   },
   "source": [
    "### a) Define biology concept-sets <a id=\"define-biology-concept-set\"></a>\n",
    "\n",
    "In order to work on the measurements of interest, you can extract a list of concepts-sets by:\n",
    "\n",
    "- Selecting [default concepts-sets](../../datasets/concepts-sets.md) provided in the library.\n",
    "- Modifying the codes of a selected default concepts-set.\n",
    "- Creating a concepts-set from scratch.\n",
    "\n",
    "__Code selection can be tricky. See <a href=\"#concept-codes-explorer\">Concept codes relationships exploration</a> section for more details on how to select them.__"
   ]
  },
  {
   "cell_type": "code",
   "execution_count": null,
   "id": "6c63647a-6b9e-474a-8cc2-3284a416ecec",
   "metadata": {
    "tags": []
   },
   "outputs": [],
   "source": [
    "from eds_scikit.biology import ConceptsSet\n",
    "\n",
    "# Creating Concept-Set\n",
    "custom_leukocytes = ConceptsSet(\"Custom_Leukocytes\")\n",
    "\n",
    "custom_leukocytes.add_concept_codes(\n",
    "    concept_codes=['A0174', 'H6740', 'C8824'], \n",
    "    terminology='GLIMS_ANABIO' \n",
    ")\n",
    "custom_leukocytes.add_concept_codes(\n",
    "    concept_codes=['6690-2'], \n",
    "    terminology='ITM_LOINC'\n",
    ")\n",
    "\n",
    "# Importing Concept-Set (see. 4.b for details on existing concepts sets)\n",
    "glucose_blood = ConceptsSet(\"Glucose_Blood_Concentration\")"
   ]
  },
  {
   "cell_type": "code",
   "execution_count": null,
   "id": "7fc180f8-40be-4682-a549-c8411c0a77a0",
   "metadata": {
    "tags": []
   },
   "outputs": [],
   "source": [
    "concepts_sets = [\n",
    "    custom_leukocytes, \n",
    "    glucose_blood\n",
    "]"
   ]
  },
  {
   "cell_type": "markdown",
   "id": "3e691cd2-c260-4c7f-a941-4c7e6ceabc59",
   "metadata": {
    "tags": []
   },
   "source": [
    "### b) Prepare measurements <a id=\"prepare-measurements\"></a>\n",
    "\n",
    "!!! tip \"Lazy execution\"\n",
    "    Execution will be lazy, except if ```convert_units=True```."
   ]
  },
  {
   "cell_type": "code",
   "execution_count": null,
   "id": "46befab4-f76c-4d98-82c3-2ae28ff1c16c",
   "metadata": {
    "tags": []
   },
   "outputs": [],
   "source": [
    "from eds_scikit.biology import prepare_measurement_table"
   ]
  },
  {
   "cell_type": "code",
   "execution_count": null,
   "id": "5c52bcf5-6174-4cc0-bad0-d41e25554a82",
   "metadata": {
    "tags": []
   },
   "outputs": [],
   "source": [
    "measurement = prepare_measurement_table(data,\n",
    "                                        start_date=\"2022-01-01\", end_date=\"2022-05-01\",\n",
    "                                        concept_sets=concepts_sets,\n",
    "                                        convert_units=False,\n",
    "                                        get_all_terminologies=True\n",
    "                                       )"
   ]
  },
  {
   "cell_type": "markdown",
   "id": "c1ad0aa7-96ef-4708-ad92-f0b482be4922",
   "metadata": {},
   "source": [
    "__Now you have your measurement table mapped with concept set terminology.__ Next sections are about measurement codes analysis, units and plots."
   ]
  },
  {
   "cell_type": "markdown",
   "id": "f62ab716-7e85-46e4-aef5-d208b6edb6ac",
   "metadata": {},
   "source": [
    "## 3 - Detailed use : Analysing measurement table<a id=\"detailed-use\"></a>"
   ]
  },
  {
   "cell_type": "markdown",
   "id": "014a62a1-d51c-41f0-931e-c2256e3141ac",
   "metadata": {
    "tags": []
   },
   "source": [
    "### a) Measurements statistics table <a id=\"stat-table\"></a>"
   ]
  },
  {
   "cell_type": "code",
   "execution_count": null,
   "id": "3aa3b34f-3aeb-4dfd-80c5-e34ae8833968",
   "metadata": {
    "tags": []
   },
   "outputs": [],
   "source": [
    "from eds_scikit.biology import measurement_values_summary"
   ]
  },
  {
   "cell_type": "code",
   "execution_count": null,
   "id": "6e223356-9d82-498b-9882-6610e3cc8b32",
   "metadata": {
    "tags": []
   },
   "outputs": [],
   "source": [
    "stats_summary = measurement_values_summary(measurement, \n",
    "                                           category_cols=[\"concept_set\", \"GLIMS_ANABIO_concept_code\", \"GLIMS_LOINC_concept_code\"], \n",
    "                                           value_column=\"value_as_number\", \n",
    "                                           unit_column=\"unit_source_value\")\n",
    "\n",
    "stats_summary"
   ]
  },
  {
   "cell_type": "markdown",
   "id": "b40696e1-47ed-4f85-9ce4-e328a6c7fcdb",
   "metadata": {
    "tags": []
   },
   "source": [
    "### b) Measurements units correction <a id=\"units-correction\"></a>"
   ]
  },
  {
   "cell_type": "code",
   "execution_count": null,
   "id": "ba356ca0-d295-4e2c-bf04-c70d9b3f276c",
   "metadata": {
    "tags": []
   },
   "outputs": [],
   "source": [
    "glucose_blood.add_conversion(\"mol\", \"g\", 180)\n",
    "glucose_blood.add_target_unit(\"mmol/l\")\n",
    "\n",
    "concepts_sets = [glucose_blood, custom_leukocytes]"
   ]
  },
  {
   "cell_type": "code",
   "execution_count": null,
   "id": "efe913b4-a3bf-4acb-a6ca-75baa8b91963",
   "metadata": {
    "tags": []
   },
   "outputs": [],
   "source": [
    "measurement = prepare_measurement_table(data, \n",
    "                                        start_date=\"2022-01-01\", end_date=\"2022-05-01\",\n",
    "                                        concept_sets=concepts_sets,\n",
    "                                        convert_units=True, \n",
    "                                        get_all_terminologies=False\n",
    "                                       )"
   ]
  },
  {
   "cell_type": "code",
   "execution_count": null,
   "id": "aba485c9-331d-456c-9452-0a06985a01ef",
   "metadata": {
    "tags": []
   },
   "outputs": [],
   "source": [
    "stats_summary = measurement_values_summary(measurement, \n",
    "                                           category_cols=[\"concept_set\", \"GLIMS_ANABIO_concept_code\"], \n",
    "                                           value_column=\"value_as_number_normalized\", #converted\n",
    "                                           unit_column=\"unit_source_value_normalized\")\n",
    "\n",
    "stats_summary"
   ]
  },
  {
   "cell_type": "markdown",
   "id": "a8001833-4567-4a33-b89c-60ba307e710c",
   "metadata": {
    "tags": []
   },
   "source": [
    "### c) Plot biology summary <a id=\"plot-summary\"></a>\n",
    "\n",
    "Applying ```plot_biology_summary``` to computed measurement dataframe, merged with care sites, allows to generate nice exploration plots such as :\n",
    "\n",
    "- [Interactive volumetry](../../_static/biology/viz/interactive_volumetry.html)\n",
    "\n",
    "- [Interactive distribution](../../_static/biology/viz/interactive_distribution.html)"
   ]
  },
  {
   "cell_type": "code",
   "execution_count": null,
   "id": "ad59d250-141b-4ae4-a2b1-85bc35dce03a",
   "metadata": {},
   "outputs": [],
   "source": [
    "from eds_scikit.biology import plot_biology_summary"
   ]
  },
  {
   "cell_type": "code",
   "execution_count": null,
   "id": "d165be4f-d9ad-4ba6-a2fe-e6af93f2b56b",
   "metadata": {
    "tags": []
   },
   "outputs": [],
   "source": [
    "measurement = measurement.merge(data.visit_occurrence[[\"care_site_id\", \"visit_occurrence_id\"]], on=\"visit_occurrence_id\")\n",
    "measurement = measurement.merge(data.care_site[[\"care_site_id\", \"care_site_short_name\"]], on=\"care_site_id\")"
   ]
  },
  {
   "cell_type": "code",
   "execution_count": null,
   "id": "7ebf1390-f1ba-4a4f-be00-4ea3d249f1d2",
   "metadata": {
    "tags": []
   },
   "outputs": [],
   "source": [
    "plot_biology_summary(measurement, value_column=\"value_as_number_normalized\") "
   ]
  },
  {
   "cell_type": "markdown",
   "id": "2e5bd994-697f-418b-b3e5-c4599bd034e3",
   "metadata": {
    "tags": []
   },
   "source": [
    "## 4 - Further : Concept Codes, Concepts Sets and Units <a id=\"further\"></a>"
   ]
  },
  {
   "cell_type": "markdown",
   "id": "4223f301-973d-4d89-93be-7c972e1b6120",
   "metadata": {
    "tags": []
   },
   "source": [
    "### 1 - Concept codes relationships exploration <a id=\"concept-codes-explorer\"></a>\n",
    "\n",
    "Concept codes relationships can be tricky to understand and to manipulate. Function ```prepare_biology_relationship_table``` allows to build __mapping dataframe between main AP-HP biology referential__.\n",
    "\n",
    "See ```io.settings.measurement_config[\"mapping\"]``` and ```io.settings.measurement_config[\"source_terminologies\"]``` configurations for mapping details."
   ]
  },
  {
   "cell_type": "code",
   "execution_count": null,
   "id": "af3e67b7-d470-4bec-905d-c112c632b76c",
   "metadata": {
    "tags": []
   },
   "outputs": [],
   "source": [
    "from eds_scikit.biology import prepare_biology_relationship_table\n",
    "\n",
    "biology_relationship_table = prepare_biology_relationship_table(data)\n",
    "biology_relationship_table = biology_relationship_table.to_pandas()"
   ]
  },
  {
   "cell_type": "markdown",
   "id": "d720fed6-4741-40e5-ba4b-501c604e3854",
   "metadata": {},
   "source": [
    "Relationship between codes from different referentials."
   ]
  },
  {
   "cell_type": "code",
   "execution_count": null,
   "id": "e5335c69-016d-4bb3-8e66-5e50faf7baba",
   "metadata": {
    "tags": []
   },
   "outputs": [],
   "source": [
    "columns = [col for col in biology_relationship_table.columns if \"concept_code\" in col]\n",
    "\n",
    "biology_relationship_table[biology_relationship_table.GLIMS_ANABIO_concept_code.isin(['A0174', 'H6740', 'C8824'])][columns].drop_duplicates()"
   ]
  },
  {
   "cell_type": "markdown",
   "id": "bcf7004f",
   "metadata": {},
   "source": [
    "|   ANALYSES_LABORATOIRE_concept_code | GLIMS_ANABIO_concept_code   | GLIMS_LOINC_concept_code   | ITM_ANABIO_concept_code   | ITM_LOINC_concept_code   |\n",
    "|------------------------------------:|:----------------------------|:---------------------------|:--------------------------|:-------------------------|\n",
    "|                                   0 | C8824                       | 33256-9                    | Unknown                   | Unknown                  |\n",
    "|                                   1 | A0174                       | 6690-2                     | A0174                     | 6690-2                   |\n",
    "|                                   1 | A0174                       | 26464-8                    | A0174                     | 6690-2                   |\n"
   ]
  },
  {
   "cell_type": "code",
   "execution_count": null,
   "id": "0e7b03bf-f930-4ff8-bab5-8af015eb0d14",
   "metadata": {
    "tags": []
   },
   "outputs": [],
   "source": [
    "biology_relationship_table[biology_relationship_table.GLIMS_LOINC_concept_code.isin(['33256-9', '6690-2', '26464-8'])][columns].drop_duplicates()"
   ]
  },
  {
   "cell_type": "markdown",
   "id": "09ca3f22",
   "metadata": {},
   "source": [
    "|   ANALYSES_LABORATOIRE_concept_code | GLIMS_ANABIO_concept_code   | GLIMS_LOINC_concept_code   | ITM_ANABIO_concept_code   | ITM_LOINC_concept_code   |\n",
    "|------------------------------------:|:----------------------------|:---------------------------|:--------------------------|:-------------------------|\n",
    "|                                   4 | E4358                       | 6690-2                     | Unknown                   | Unknown                  |\n",
    "|                                   2 | C9097                       | 26464-8                    | Unknown                   | Unknown                  |\n",
    "|                                   6 | K3232                       | 6690-2                     | Unknown                   | Unknown                  |\n",
    "|                                   5 | E6953                       | 26464-8                    | Unknown                   | Unknown                  |\n",
    "|                                   1 | C8824                       | 33256-9                    | Unknown                   | Unknown                  |\n",
    "|                                   4 | E4358                       | 26464-8                    | Unknown                   | Unknown                  |\n",
    "|                                   5 | E6953                       | 6690-2                     | Unknown                   | Unknown                  |\n",
    "|                                   7 | K6094                       | 6690-2                     | Unknown                   | Unknown                  |\n",
    "|                                   0 | C9784                       | 6690-2                     | C9784                     | 6690-2                   |\n",
    "|                                   0 | C9784                       | 26464-8                    | C9784                     | 6690-2                   |\n",
    "|                                   3 | A0174                       | 6690-2                     | A0174                     | 6690-2                   |\n",
    "|                                   3 | A0174                       | 26464-8                    | A0174                     | 6690-2                   |\n"
   ]
  },
  {
   "cell_type": "markdown",
   "id": "fc787db7-75b3-4c5d-939e-a8216f1646ca",
   "metadata": {},
   "source": [
    "### 2 - Concepts-Sets <a id=\"concepts-sets\"></a>\n",
    "\n",
    "To get all availables concepts sets see `datasets.default_concepts_sets`. More details about their definition and how they are build can be found in this [section](#concepts-sets).\n"
   ]
  },
  {
   "cell_type": "code",
   "execution_count": null,
   "id": "a9f7bfd2-4448-41fe-ac1e-5a3a9147a529",
   "metadata": {
    "tags": []
   },
   "outputs": [],
   "source": [
    "from eds_scikit import datasets\n",
    "from eds_scikit.biology import ConceptsSet"
   ]
  },
  {
   "cell_type": "code",
   "execution_count": null,
   "id": "d910d37c-bdd0-4a10-aaec-481e2fd80b14",
   "metadata": {
    "tags": []
   },
   "outputs": [],
   "source": [
    "print(ConceptsSet(\"Glucose_Blood_Concentration\").concept_codes)"
   ]
  },
  {
   "cell_type": "code",
   "execution_count": null,
   "id": "e13bfcbb-3158-4ec3-93b6-cb8ee7ec2918",
   "metadata": {
    "tags": []
   },
   "outputs": [],
   "source": [
    "datasets.default_concepts_sets"
   ]
  },
  {
   "cell_type": "markdown",
   "id": "18ea84bd-26c4-498b-8b9b-8e2d5bdda1bf",
   "metadata": {
    "tags": []
   },
   "source": [
    "### 3 - Units <a id=\"units\"></a>\n",
    "\n",
    "Units module makes conversion between units easier. It uses configuration files `datasets.units` and `datasets.elements`."
   ]
  },
  {
   "cell_type": "code",
   "execution_count": null,
   "id": "e59de359-ab1e-413f-a862-01a3ff1afa43",
   "metadata": {
    "tags": []
   },
   "outputs": [],
   "source": [
    "from eds_scikit import datasets"
   ]
  },
  {
   "cell_type": "code",
   "execution_count": null,
   "id": "ce07161a-fc1f-452f-a736-7bc5742d8fc7",
   "metadata": {
    "tags": []
   },
   "outputs": [],
   "source": [
    "from eds_scikit.biology import Units"
   ]
  },
  {
   "cell_type": "code",
   "execution_count": null,
   "id": "c820697a-bfdc-49eb-b059-3f4674a8eaaf",
   "metadata": {
    "tags": []
   },
   "outputs": [],
   "source": [
    "units = Units()\n",
    "\n",
    "print(\"L to ml : \", units.convert_unit(\"L\", \"ml\"))\n",
    "print(\"m/s to m/h : \", units.convert_unit(\"m/s\", \"m/h\"))\n",
    "print(\"g to mol : \", units.convert_unit(\"g\", \"mol\"))\n",
    "units.add_conversion(\"mol\", \"g\", 180)\n",
    "print(\"g to mol : \", units.convert_unit(\"g\", \"mol\"))"
   ]
  }
 ],
 "metadata": {
  "kernelspec": {
   "display_name": "eds-scikit-project-client-clean",
   "language": "python",
   "name": "eds-scikit-project-client-clean"
  },
  "language_info": {
   "codemirror_mode": {
    "name": "ipython",
    "version": 3
   },
   "file_extension": ".py",
   "mimetype": "text/x-python",
   "name": "python",
   "nbconvert_exporter": "python",
   "pygments_lexer": "ipython3",
   "version": "3.7.8"
  }
 },
 "nbformat": 4,
 "nbformat_minor": 5
}
